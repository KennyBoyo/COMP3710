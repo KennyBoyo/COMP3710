{
 "cells": [
  {
   "cell_type": "code",
   "execution_count": 6,
   "metadata": {},
   "outputs": [],
   "source": [
    "import math\n",
    "import numpy as np\n",
    "import pandas as pd\n",
    "from sklearn.preprocessing import OneHotEncoder, LabelEncoder\n",
    "from sklearn.model_selection import train_test_split\n",
    "from sklearn.preprocessing import StandardScaler\n",
    "import seaborn\n",
    "import torch\n",
    "import torchsummary\n",
    "import matplotlib.pyplot as plt\n",
    "from torch.utils.data import Dataset\n",
    "import pickle\n",
    "from sklearn.datasets import fetch_lfw_people\n",
    "from sklearn.model_selection import train_test_split\n",
    "from sklearn.metrics import classification_report\n",
    "import numpy as np\n",
    "# Download the data, if not already on disk and load it as numpy arrays\n",
    "lfw_people = fetch_lfw_people(min_faces_per_person=70, resize=0.4)"
   ]
  },
  {
   "cell_type": "code",
   "execution_count": 14,
   "metadata": {},
   "outputs": [
    {
     "name": "stdout",
     "output_type": "stream",
     "text": [
      "Total dataset size:\n",
      "n_samples: 1288\n",
      "n_features: 1850\n",
      "n_classes: 7\n",
      "(1288, 1850)\n"
     ]
    }
   ],
   "source": [
    "\n",
    "# introspect the images arrays to find the shapes (for plotting)\n",
    "n_samples, h, w = lfw_people.images.shape\n",
    "# for machine learning we use the 2 data directly (as relative pixel\n",
    "# positions info is ignored by this model)\n",
    "X = lfw_people.data\n",
    "n_features = X.shape[1]\n",
    "# the label to predict is the id of the person\n",
    "y = lfw_people.target\n",
    "target_names = lfw_people.target_names\n",
    "n_classes = target_names.shape[0]\n",
    "print(\"Total dataset size:\")\n",
    "print(\"n_samples: %d\" % n_samples)\n",
    "print(\"n_features: %d\" % n_features)\n",
    "print(\"n_classes: %d\" % n_classes)\n"
   ]
  },
  {
   "cell_type": "code",
   "execution_count": 33,
   "metadata": {},
   "outputs": [
    {
     "name": "stdout",
     "output_type": "stream",
     "text": [
      "[[0.5006536  0.53333336 0.5372549  ... 0.8705883  0.8928105  0.88366014]\n",
      " [0.6535948  0.55947715 0.49019608 ... 0.12418301 0.1503268  0.16470589]\n",
      " [0.45751634 0.45882353 0.46797386 ... 0.12156863 0.11764706 0.10980392]\n",
      " ...\n",
      " [0.48496735 0.45228758 0.45620918 ... 0.39869285 0.39084968 0.52679735]\n",
      " [0.43398693 0.44575164 0.6052287  ... 0.20653595 0.19215687 0.22222222]\n",
      " [0.04444445 0.05490196 0.06143792 ... 0.64836603 0.71503264 0.83267975]]\n",
      "(966, 1850)\n",
      "(322, 1850)\n",
      "X_train shape: (966, 1, 50, 37)\n"
     ]
    },
    {
     "data": {
      "text/plain": [
       "<matplotlib.image.AxesImage at 0x2015ea562f0>"
      ]
     },
     "execution_count": 33,
     "metadata": {},
     "output_type": "execute_result"
    },
    {
     "data": {
      "image/png": "[encoded data removed]",
      "text/plain": [
       "<Figure size 640x480 with 1 Axes>"
      ]
     },
     "metadata": {},
     "output_type": "display_data"
    }
   ],
   "source": [
    "# from torch.nn import module\n",
    "import torch\n",
    "import cv2\n",
    "\n",
    "# Split into a training set and a test set using a stratified k fold\n",
    "x_tr, x_ts, y_tr, y_ts = train_test_split(X, y, test_size=0.25, random_state=42)# Compute a PCA (eigenfaces) on the face dataset (treated as unlabeled\n",
    "# x_tr, x_ts, y_tr, y_ts = torch.from_numpy(x_tr), torch.from_numpy(x_ts), torch.from_numpy(y_tr), torch.from_numpy(y_ts)\n",
    "print(x_tr)\n",
    "#normalise\n",
    "x_tr = x_tr / 255.0\n",
    "x_ts = x_ts / 255.0\n",
    "print(x_tr.shape)\n",
    "print(x_ts.shape)\n",
    "x_tr = x_tr.reshape(-1, 1, h, w)\n",
    "x_ts = x_ts.reshape(-1, 1, h, w)\n",
    "\n",
    "print(\"X_train shape:\", x_tr.shape)\n",
    "plt.imshow(x_tr[0, 0])"
   ]
  },
  {
   "cell_type": "code",
   "execution_count": null,
   "metadata": {},
   "outputs": [],
   "source": [
    "class CiFAR10Dataset(Dataset):\n",
    "    def __init__(self, x, y):\n",
    "        self.x = x.clone()\n",
    "        self.y = y.clone()\n",
    "        \n",
    "        \n",
    "    def __len__(self):\n",
    "        return len(self.y)\n",
    "    \n",
    "    def __getitem__(self, idx):\n",
    "        return self.x[idx], self.y[idx]"
   ]
  },
  {
   "cell_type": "code",
   "execution_count": null,
   "metadata": {},
   "outputs": [],
   "source": [
    "from collections import OrderedDict\n",
    "import torch\n",
    "import torch.nn as nn\n",
    "import torch.optim as optim\n",
    "\n",
    "class NutrientMLP(nn.Module):\n",
    "    def __init__(self, n_feat, n_out, n_nodes):\n",
    "        '''\n",
    "        Initialize neural network parameters.\n",
    "        \n",
    "        Parameters\n",
    "        ----------\n",
    "        init: either 'zero' (all parameters are 0) or 'rand' (each parameter is uniformly sampled from [-0.5, 0.5])\n",
    "        '''\n",
    "        super().__init__()\n",
    "        \n",
    "        torch.manual_seed(0)\n",
    "        \n",
    "        self.n_feat = n_feat\n",
    "        self.n_out = n_out\n",
    "        self.n_nodes = n_nodes\n",
    "        self.layers = OrderedDict()\n",
    "        \n",
    "        for i in range(len(n_nodes)):\n",
    "            linear_name = 'linear'+str(i)\n",
    "            if i == 0:\n",
    "                w = nn.Parameter(torch.rand(n_nodes[i], n_feat))\n",
    "                b = nn.Parameter(torch.rand(n_nodes[i]))\n",
    "                self.layers[linear_name] = nn.Linear(n_feat, n_nodes[i])\n",
    "            elif i == len(n_nodes)-1:\n",
    "                w = nn.Parameter(torch.rand(n_out, n_nodes[i-1]))\n",
    "                b = nn.Parameter(torch.rand(n_out))\n",
    "                self.layers[linear_name] = nn.Linear(n_nodes[i-1], n_out)\n",
    "            else:\n",
    "                w = nn.Parameter(torch.rand(n_nodes[i], n_nodes[i-1]))\n",
    "                b = nn.Parameter(torch.rand(n_nodes[i]))\n",
    "                self.layers[linear_name] = nn.Linear(n_nodes[i-1], n_nodes[i])\n",
    "            self.layers[linear_name].weight = w\n",
    "            self.layers[linear_name].bias = b\n",
    "            self.layers['relu'+str(i)] = nn.ReLU()\n",
    "            \n",
    "        self.sequential = nn.Sequential(self.layers)\n",
    "    \n",
    "    def forward(self, x):\n",
    "        # Task: add your forward computation code below\n",
    "        out = self.sequential(x).view(-1)\n",
    "        return out\n",
    "    \n",
    "    def predict(self, x):\n",
    "        o = self(x)\n",
    "        return l"
   ]
  },
  {
   "cell_type": "code",
   "execution_count": null,
   "metadata": {},
   "outputs": [],
   "source": [
    "def mseloss(o, y):\n",
    "    loss = nn.MSELoss()\n",
    "    return loss(o, y)"
   ]
  },
  {
   "cell_type": "code",
   "execution_count": null,
   "metadata": {},
   "outputs": [],
   "source": [
    "from torch.utils.data import DataLoader, Dataset\n",
    "from time import time\n",
    "from tqdm import tqdm\n",
    "\n",
    "def train(net, x, y, x_ts, y_ts, lossfunc, lr=0.1, momentum=0.1, opt=\"SGD\", batch_size=600, nepochs=10, clip=10, loop_prepend=\"\"):\n",
    "    device = next(net.parameters()).device # check what device the net parameters are on\n",
    "    if opt == \"SGD\":\n",
    "        optimizer = optim.SGD(net.parameters(), lr=lr, momentum=momentum)\n",
    "    if opt == \"ADAM\":\n",
    "        optimizer = optim.Adam(net.parameters(), lr=lr)\n",
    "    # scheduler = optim.lr_scheduler.ExponentialLR(optimizer, gamma=0.9)\n",
    "    \n",
    "    accList = []\n",
    "    testAccList = []\n",
    "    \n",
    "    x, y, x_ts, y_ts = torch.tensor(x).to(device).type(torch.FloatTensor), torch.tensor(y).to(device).type(torch.FloatTensor), torch.tensor(x_ts).to(device).type(torch.FloatTensor), torch.tensor(y_ts).to(device).type(torch.FloatTensor)\n",
    "    \n",
    "    # training loop\n",
    "    dataloader = DataLoader(NutrientDataset(x, y), batch_size=batch_size, shuffle=True)\n",
    "    loop = tqdm(range(nepochs), ncols=110)\n",
    "    for i in loop: # for each epoch\n",
    "        t0 = time()\n",
    "        \n",
    "        epoch_loss = 0\n",
    "        for (x_batch, y_batch) in dataloader: # for each mini-batch\n",
    "            # Get prediction from model and calculate loss\n",
    "            x_batch.to(device)\n",
    "            y_batch.to(device)\n",
    "            y_pred = net(x_batch)\n",
    "            # print(y_pred, y_batch)\n",
    "            loss = lossfunc(y_pred, y_batch)\n",
    "            # print(y_pred.shape, y_batch.shape)\n",
    "            epoch_loss += loss\n",
    "            # Reset optimiser gradients\n",
    "            optimizer.zero_grad()\n",
    "            # Backpropagation\n",
    "            loss.backward()\n",
    "            nn.utils.clip_grad_norm_(net.parameters(), clip)\n",
    "            optimizer.step()\n",
    "            # pass\n",
    "        n_batches = len(dataloader)\n",
    "        epoch_loss /= n_batches\n",
    "        \n",
    "\n",
    "        # evaluate network performance\n",
    "        acc = test(net, x, y, batch_size=batch_size)\n",
    "        testAcc = test(net, x_ts, y_ts, batch_size=batch_size)\n",
    "        \n",
    "        accList.append(acc.item())\n",
    "        testAccList.append(testAcc.item())\n",
    "        \n",
    "\n",
    "        # show training progress\n",
    "        loop.set_description(loop_prepend)\n",
    "        loop.set_postfix(loss=\"%5.5f\" % (epoch_loss),\n",
    "                         train_acc=\"%.2f\" % (acc),\n",
    "                         test_acc=\"%.2f\" % (testAcc))\n",
    "    \n",
    "    # scheduler.step()\n",
    "    return accList, testAccList\n",
    "\n",
    "def test(net, x, y, batch_size=600, showerrors=False):\n",
    "    with torch.no_grad(): # disable automatic gradient computation for efficiency\n",
    "        device = next(net.parameters()).device\n",
    "        \n",
    "        x, y = torch.tensor(x).to(device).type(torch.FloatTensor), torch.tensor(y).to(device).type(torch.FloatTensor)\n",
    "\n",
    "        pred = []\n",
    "        # make predictions on mini-batches  \n",
    "        dataloader = DataLoader(NutrientDataset(x, y), batch_size=batch_size, shuffle=False)\n",
    "        for (x_batch, y_batch) in dataloader:\n",
    "            x_batch = x_batch.to(device)\n",
    "            pred.append(net(x_batch).to(device))\n",
    "\n",
    "        # compute accuracy\n",
    "        pred = torch.cat(pred).view(-1) # concat predictions on the mini-batches\n",
    "        true = y.to(device)\n",
    "        acc = mseloss(pred, true)\n",
    "        # print(pred.shape, true.shape)\n",
    "        # print(pred, true)\n",
    "        # acc = (pred == true).sum().float() / len(y)\n",
    "        return acc  \n",
    "\n",
    "# def test(net, x, y, batch_size=600, showerrors=False):\n",
    "#     with torch.no_grad(): # disable automatic gradient computation for efficiency\n",
    "#         device = next(net.parameters()).device\n",
    "\n",
    "#         pred_cls = []\n",
    "#         # make predictions on mini-batches  \n",
    "#         dataloader = DataLoader(NutrientDataset(x, y), batch_size=batch_size, shuffle=False)\n",
    "#         for x_batch in dataloader:\n",
    "#             x_batch = x_batch.to(device)\n",
    "#             pred_cls.append(torch.max(net(x_batch), 1)[1].cpu())\n",
    "\n",
    "#         # compute accuracy\n",
    "#         pred_cls = torch.cat(pred_cls) # concat predictions on the mini-batches\n",
    "#         true_cls = torch.max(y, 1)[1].cpu()\n",
    "#         acc = (pred_cls == true_cls).sum().float() / len(y)\n",
    "#         return acc     "
   ]
  },
  {
   "cell_type": "code",
   "execution_count": 18,
   "metadata": {},
   "outputs": [
    {
     "name": "stdout",
     "output_type": "stream",
     "text": [
      "Files already downloaded and verified\n",
      "Files already downloaded and verified\n"
     ]
    }
   ],
   "source": [
    "import torchvision\n",
    "\n",
    "x_tr = torchvision.datasets.CIFAR10(root=\"./cifar10\", train=True, download=True)\n",
    "x_tr_loader = DataLoader(x_tr, batch_size=128, shuffle=True)\n",
    "x_ts = torchvision.datasets.CIFAR10(root=\"./cifar10\", download=True)\n",
    "x_ts_loader = DataLoader(x_ts, batch_size=100, shuffle=False)"
   ]
  },
  {
   "cell_type": "code",
   "execution_count": null,
   "metadata": {},
   "outputs": [],
   "source": []
  }
 ],
 "metadata": {
  "kernelspec": {
   "display_name": "Python 3.10.11 ('DeepLearning')",
   "language": "python",
   "name": "python3"
  },
  "language_info": {
   "codemirror_mode": {
    "name": "ipython",
    "version": 3
   },
   "file_extension": ".py",
   "mimetype": "text/x-python",
   "name": "python",
   "nbconvert_exporter": "python",
   "pygments_lexer": "ipython3",
   "version": "3.10.11"
  },
  "orig_nbformat": 4,
  "vscode": {
   "interpreter": {
    "hash": "6c9dc99627a09bb05a8bd48a8dca3314e93c61f811f4ad65c484bbe198963cb5"
   }
  }
 },
 "nbformat": 4,
 "nbformat_minor": 2
}
