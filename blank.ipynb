{
 "cells": [
  {
   "cell_type": "code",
   "execution_count": 63,
   "metadata": {},
   "outputs": [],
   "source": [
    "\n",
    "import torch\n",
    "import torchvision\n",
    "import torchvision.transforms as transforms\n",
    "from tqdm import tqdm\n",
    "\n",
    "device = torch.device(\"cuda:0\" if torch.cuda.is_available() else \"cpu\")"
   ]
  },
  {
   "cell_type": "code",
   "execution_count": 72,
   "metadata": {},
   "outputs": [
    {
     "name": "stdout",
     "output_type": "stream",
     "text": [
      "Files already downloaded and verified\n",
      "Files already downloaded and verified\n"
     ]
    }
   ],
   "source": [
    "transform = transforms.Compose(\n",
    "    [transforms.ToTensor(),\n",
    "     transforms.Normalize((0.5, 0.5, 0.5), (0.5, 0.5, 0.5))])\n",
    "\n",
    "batch_size = 4\n",
    "\n",
    "trainset = torchvision.datasets.CIFAR10(root='./cifar10', train=True, batch_size = 128,\n",
    "                                        download=True, transform=transform)\n",
    "\n",
    "trainloader = torch.utils.data.DataLoader(trainset, batch_size=batch_size,\n",
    "                                          shuffle=True, num_workers=2)\n",
    "\n",
    "testset = torchvision.datasets.CIFAR10(root='./cifar10', train=False, batch_size = 128,\n",
    "                                       download=True, transform=transform)\n",
    "testloader = torch.utils.data.DataLoader(testset, batch_size=batch_size,\n",
    "                                         shuffle=False, num_workers=2)\n",
    "\n",
    "classes = ('plane', 'car', 'bird', 'cat',\n",
    "           'deer', 'dog', 'frog', 'horse', 'ship', 'truck')"
   ]
  },
  {
   "cell_type": "code",
   "execution_count": 73,
   "metadata": {},
   "outputs": [
    {
     "data": {
      "image/png": "[encoded data removed]",
      "text/plain": [
       "<Figure size 640x480 with 1 Axes>"
      ]
     },
     "metadata": {},
     "output_type": "display_data"
    },
    {
     "name": "stdout",
     "output_type": "stream",
     "text": [
      "plane plane plane frog \n"
     ]
    }
   ],
   "source": [
    "import matplotlib.pyplot as plt\n",
    "import numpy as np\n",
    "\n",
    "# functions to show an image\n",
    "\n",
    "\n",
    "def imshow(img):\n",
    "    img = img / 2 + 0.5     # unnormalize\n",
    "    npimg = img.numpy()\n",
    "    plt.imshow(np.transpose(npimg, (1, 2, 0)))\n",
    "    plt.show()\n",
    "\n",
    "\n",
    "# get some random training images\n",
    "dataiter = iter(trainloader)\n",
    "images, labels = next(dataiter)\n",
    "\n",
    "# show images\n",
    "imshow(torchvision.utils.make_grid(images))\n",
    "# print labels\n",
    "print(' '.join(f'{classes[labels[j]]:5s}' for j in range(batch_size)))"
   ]
  },
  {
   "cell_type": "code",
   "execution_count": 118,
   "metadata": {},
   "outputs": [],
   "source": [
    "import torch.nn as nn\n",
    "import torch.nn.functional as F\n",
    "\n",
    "\n",
    "class Net(nn.Module):\n",
    "    def __init__(self):\n",
    "        super().__init__()\n",
    "        self.conv1 = nn.Conv2d(3, 64, 3)\n",
    "        self.pool = nn.MaxPool2d(2, 2)\n",
    "        self.conv2 = nn.Conv2d(64, 32, 3)\n",
    "        self.conv3 = nn.Conv2d(32, 16, 2)\n",
    "        self.fc1 = nn.Linear(16 * 2 * 2, 120)\n",
    "        self.fc2 = nn.Linear(120, 84)\n",
    "        self.fc3 = nn.Linear(84, 10)\n",
    "\n",
    "    def forward(self, x):\n",
    "        x = self.pool(F.relu(self.conv1(x)))\n",
    "        x = self.pool(F.relu(self.conv2(x)))\n",
    "        x = self.pool(F.relu(self.conv3(x)))\n",
    "        x = torch.flatten(x, 1) # flatten all dimensions except batch\n",
    "        x = F.relu(self.fc1(x))\n",
    "        x = F.relu(self.fc2(x))\n",
    "        x = self.fc3(x)\n",
    "        return x\n",
    "\n",
    "\n",
    "net = Net().to(device)"
   ]
  },
  {
   "cell_type": "code",
   "execution_count": 119,
   "metadata": {},
   "outputs": [],
   "source": [
    "import torch.optim as optim\n",
    "\n",
    "criterion = nn.CrossEntropyLoss()\n",
    "optimizer = optim.Adam(net.parameters(), lr = 0.00005)"
   ]
  },
  {
   "cell_type": "code",
   "execution_count": 120,
   "metadata": {},
   "outputs": [
    {
     "name": "stderr",
     "output_type": "stream",
     "text": [
      "  0%|          | 0/50 [00:00<?, ?it/s]C:\\Users\\Jun Khai\\AppData\\Local\\Temp\\ipykernel_24752\\2089865247.py:7: UserWarning: To copy construct from a tensor, it is recommended to use sourceTensor.clone().detach() or sourceTensor.clone().detach().requires_grad_(True), rather than torch.tensor(sourceTensor).\n",
      "  inputs = torch.tensor(inputs.to(device))\n",
      "C:\\Users\\Jun Khai\\AppData\\Local\\Temp\\ipykernel_24752\\2089865247.py:8: UserWarning: To copy construct from a tensor, it is recommended to use sourceTensor.clone().detach() or sourceTensor.clone().detach().requires_grad_(True), rather than torch.tensor(sourceTensor).\n",
      "  labels = torch.tensor(labels.to(device))\n"
     ]
    },
    {
     "name": "stdout",
     "output_type": "stream",
     "text": [
      "[1,  2000] loss: 2.162\n",
      "[1,  4000] loss: 2.000\n",
      "[1,  6000] loss: 1.923\n",
      "[1,  8000] loss: 1.846\n",
      "[1, 10000] loss: 1.799\n",
      "[1, 12000] loss: 1.781\n"
     ]
    },
    {
     "name": "stderr",
     "output_type": "stream",
     "text": [
      "  2%|▏         | 1/50 [00:31<25:51, 31.67s/it]"
     ]
    },
    {
     "name": "stdout",
     "output_type": "stream",
     "text": [
      "[2,  2000] loss: 1.724\n",
      "[2,  4000] loss: 1.705\n",
      "[2,  6000] loss: 1.678\n",
      "[2,  8000] loss: 1.677\n",
      "[2, 10000] loss: 1.663\n",
      "[2, 12000] loss: 1.633\n"
     ]
    },
    {
     "name": "stderr",
     "output_type": "stream",
     "text": [
      "  4%|▍         | 2/50 [01:03<25:34, 31.96s/it]"
     ]
    },
    {
     "name": "stdout",
     "output_type": "stream",
     "text": [
      "[3,  2000] loss: 1.610\n",
      "[3,  4000] loss: 1.588\n",
      "[3,  6000] loss: 1.594\n",
      "[3,  8000] loss: 1.583\n",
      "[3, 10000] loss: 1.576\n",
      "[3, 12000] loss: 1.563\n"
     ]
    },
    {
     "name": "stderr",
     "output_type": "stream",
     "text": [
      "  6%|▌         | 3/50 [01:35<25:03, 31.99s/it]"
     ]
    },
    {
     "name": "stdout",
     "output_type": "stream",
     "text": [
      "[4,  2000] loss: 1.540\n",
      "[4,  4000] loss: 1.553\n",
      "[4,  6000] loss: 1.505\n",
      "[4,  8000] loss: 1.522\n",
      "[4, 10000] loss: 1.513\n",
      "[4, 12000] loss: 1.498\n"
     ]
    },
    {
     "name": "stderr",
     "output_type": "stream",
     "text": [
      "  8%|▊         | 4/50 [02:07<24:33, 32.04s/it]"
     ]
    },
    {
     "name": "stdout",
     "output_type": "stream",
     "text": [
      "[5,  2000] loss: 1.477\n",
      "[5,  4000] loss: 1.485\n",
      "[5,  6000] loss: 1.467\n",
      "[5,  8000] loss: 1.459\n",
      "[5, 10000] loss: 1.435\n",
      "[5, 12000] loss: 1.459\n"
     ]
    },
    {
     "name": "stderr",
     "output_type": "stream",
     "text": [
      " 10%|█         | 5/50 [02:39<24:01, 32.03s/it]"
     ]
    },
    {
     "name": "stdout",
     "output_type": "stream",
     "text": [
      "[6,  2000] loss: 1.450\n",
      "[6,  4000] loss: 1.434\n",
      "[6,  6000] loss: 1.423\n",
      "[6,  8000] loss: 1.409\n",
      "[6, 10000] loss: 1.410\n",
      "[6, 12000] loss: 1.379\n"
     ]
    },
    {
     "name": "stderr",
     "output_type": "stream",
     "text": [
      " 12%|█▏        | 6/50 [03:11<23:24, 31.93s/it]"
     ]
    },
    {
     "name": "stdout",
     "output_type": "stream",
     "text": [
      "[7,  2000] loss: 1.382\n",
      "[7,  4000] loss: 1.379\n",
      "[7,  6000] loss: 1.380\n",
      "[7,  8000] loss: 1.372\n",
      "[7, 10000] loss: 1.365\n",
      "[7, 12000] loss: 1.373\n"
     ]
    },
    {
     "name": "stderr",
     "output_type": "stream",
     "text": [
      " 14%|█▍        | 7/50 [03:43<22:56, 32.02s/it]"
     ]
    },
    {
     "name": "stdout",
     "output_type": "stream",
     "text": [
      "[8,  2000] loss: 1.343\n",
      "[8,  4000] loss: 1.346\n",
      "[8,  6000] loss: 1.363\n",
      "[8,  8000] loss: 1.324\n",
      "[8, 10000] loss: 1.339\n",
      "[8, 12000] loss: 1.342\n"
     ]
    },
    {
     "name": "stderr",
     "output_type": "stream",
     "text": [
      " 16%|█▌        | 8/50 [04:15<22:21, 31.94s/it]"
     ]
    },
    {
     "name": "stdout",
     "output_type": "stream",
     "text": [
      "[9,  2000] loss: 1.338\n",
      "[9,  4000] loss: 1.313\n",
      "[9,  6000] loss: 1.303\n",
      "[9,  8000] loss: 1.304\n",
      "[9, 10000] loss: 1.304\n",
      "[9, 12000] loss: 1.304\n"
     ]
    },
    {
     "name": "stderr",
     "output_type": "stream",
     "text": [
      " 18%|█▊        | 9/50 [04:47<21:46, 31.87s/it]"
     ]
    },
    {
     "name": "stdout",
     "output_type": "stream",
     "text": [
      "[10,  2000] loss: 1.287\n",
      "[10,  4000] loss: 1.294\n",
      "[10,  6000] loss: 1.301\n",
      "[10,  8000] loss: 1.287\n",
      "[10, 10000] loss: 1.278\n",
      "[10, 12000] loss: 1.257\n"
     ]
    },
    {
     "name": "stderr",
     "output_type": "stream",
     "text": [
      " 20%|██        | 10/50 [05:19<21:16, 31.90s/it]"
     ]
    },
    {
     "name": "stdout",
     "output_type": "stream",
     "text": [
      "[11,  2000] loss: 1.267\n",
      "[11,  4000] loss: 1.247\n",
      "[11,  6000] loss: 1.255\n",
      "[11,  8000] loss: 1.244\n",
      "[11, 10000] loss: 1.255\n",
      "[11, 12000] loss: 1.267\n"
     ]
    },
    {
     "name": "stderr",
     "output_type": "stream",
     "text": [
      " 22%|██▏       | 11/50 [05:51<20:47, 31.99s/it]"
     ]
    },
    {
     "name": "stdout",
     "output_type": "stream",
     "text": [
      "[12,  2000] loss: 1.257\n",
      "[12,  4000] loss: 1.218\n",
      "[12,  6000] loss: 1.236\n",
      "[12,  8000] loss: 1.233\n",
      "[12, 10000] loss: 1.228\n",
      "[12, 12000] loss: 1.210\n"
     ]
    },
    {
     "name": "stderr",
     "output_type": "stream",
     "text": [
      " 24%|██▍       | 12/50 [06:23<20:13, 31.93s/it]"
     ]
    },
    {
     "name": "stdout",
     "output_type": "stream",
     "text": [
      "[13,  2000] loss: 1.210\n",
      "[13,  4000] loss: 1.206\n",
      "[13,  6000] loss: 1.221\n",
      "[13,  8000] loss: 1.202\n",
      "[13, 10000] loss: 1.203\n",
      "[13, 12000] loss: 1.201\n"
     ]
    },
    {
     "name": "stderr",
     "output_type": "stream",
     "text": [
      " 26%|██▌       | 13/50 [06:55<19:40, 31.90s/it]"
     ]
    },
    {
     "name": "stdout",
     "output_type": "stream",
     "text": [
      "[14,  2000] loss: 1.195\n",
      "[14,  4000] loss: 1.178\n",
      "[14,  6000] loss: 1.206\n",
      "[14,  8000] loss: 1.174\n",
      "[14, 10000] loss: 1.191\n",
      "[14, 12000] loss: 1.176\n"
     ]
    },
    {
     "name": "stderr",
     "output_type": "stream",
     "text": [
      " 28%|██▊       | 14/50 [07:26<19:06, 31.84s/it]"
     ]
    },
    {
     "name": "stdout",
     "output_type": "stream",
     "text": [
      "[15,  2000] loss: 1.161\n",
      "[15,  4000] loss: 1.153\n",
      "[15,  6000] loss: 1.152\n",
      "[15,  8000] loss: 1.168\n",
      "[15, 10000] loss: 1.172\n",
      "[15, 12000] loss: 1.169\n"
     ]
    },
    {
     "name": "stderr",
     "output_type": "stream",
     "text": [
      " 30%|███       | 15/50 [07:58<18:31, 31.76s/it]"
     ]
    },
    {
     "name": "stdout",
     "output_type": "stream",
     "text": [
      "[16,  2000] loss: 1.126\n",
      "[16,  4000] loss: 1.154\n",
      "[16,  6000] loss: 1.112\n",
      "[16,  8000] loss: 1.155\n",
      "[16, 10000] loss: 1.155\n",
      "[16, 12000] loss: 1.148\n"
     ]
    },
    {
     "name": "stderr",
     "output_type": "stream",
     "text": [
      " 32%|███▏      | 16/50 [08:30<18:00, 31.79s/it]"
     ]
    },
    {
     "name": "stdout",
     "output_type": "stream",
     "text": [
      "[17,  2000] loss: 1.141\n",
      "[17,  4000] loss: 1.123\n",
      "[17,  6000] loss: 1.122\n",
      "[17,  8000] loss: 1.128\n",
      "[17, 10000] loss: 1.121\n",
      "[17, 12000] loss: 1.108\n"
     ]
    },
    {
     "name": "stderr",
     "output_type": "stream",
     "text": [
      " 34%|███▍      | 17/50 [09:01<17:27, 31.75s/it]"
     ]
    },
    {
     "name": "stdout",
     "output_type": "stream",
     "text": [
      "[18,  2000] loss: 1.101\n",
      "[18,  4000] loss: 1.099\n",
      "[18,  6000] loss: 1.113\n",
      "[18,  8000] loss: 1.104\n",
      "[18, 10000] loss: 1.120\n",
      "[18, 12000] loss: 1.099\n"
     ]
    },
    {
     "name": "stderr",
     "output_type": "stream",
     "text": [
      " 36%|███▌      | 18/50 [09:34<16:59, 31.86s/it]"
     ]
    },
    {
     "name": "stdout",
     "output_type": "stream",
     "text": [
      "[19,  2000] loss: 1.094\n",
      "[19,  4000] loss: 1.093\n",
      "[19,  6000] loss: 1.088\n",
      "[19,  8000] loss: 1.072\n",
      "[19, 10000] loss: 1.111\n",
      "[19, 12000] loss: 1.069\n"
     ]
    },
    {
     "name": "stderr",
     "output_type": "stream",
     "text": [
      " 38%|███▊      | 19/50 [10:06<16:28, 31.90s/it]"
     ]
    },
    {
     "name": "stdout",
     "output_type": "stream",
     "text": [
      "[20,  2000] loss: 1.094\n",
      "[20,  4000] loss: 1.075\n",
      "[20,  6000] loss: 1.084\n",
      "[20,  8000] loss: 1.084\n",
      "[20, 10000] loss: 1.044\n",
      "[20, 12000] loss: 1.069\n"
     ]
    },
    {
     "name": "stderr",
     "output_type": "stream",
     "text": [
      " 40%|████      | 20/50 [10:38<15:58, 31.96s/it]"
     ]
    },
    {
     "name": "stdout",
     "output_type": "stream",
     "text": [
      "[21,  2000] loss: 1.061\n",
      "[21,  4000] loss: 1.065\n",
      "[21,  6000] loss: 1.045\n",
      "[21,  8000] loss: 1.065\n",
      "[21, 10000] loss: 1.056\n",
      "[21, 12000] loss: 1.076\n"
     ]
    },
    {
     "name": "stderr",
     "output_type": "stream",
     "text": [
      " 42%|████▏     | 21/50 [11:10<15:28, 32.01s/it]"
     ]
    },
    {
     "name": "stdout",
     "output_type": "stream",
     "text": [
      "[22,  2000] loss: 1.049\n",
      "[22,  4000] loss: 1.059\n",
      "[22,  6000] loss: 1.036\n",
      "[22,  8000] loss: 1.047\n",
      "[22, 10000] loss: 1.040\n",
      "[22, 12000] loss: 1.050\n"
     ]
    },
    {
     "name": "stderr",
     "output_type": "stream",
     "text": [
      " 44%|████▍     | 22/50 [11:42<14:55, 31.97s/it]"
     ]
    },
    {
     "name": "stdout",
     "output_type": "stream",
     "text": [
      "[23,  2000] loss: 1.039\n",
      "[23,  4000] loss: 1.043\n",
      "[23,  6000] loss: 1.034\n",
      "[23,  8000] loss: 1.041\n",
      "[23, 10000] loss: 1.010\n",
      "[23, 12000] loss: 1.036\n"
     ]
    },
    {
     "name": "stderr",
     "output_type": "stream",
     "text": [
      " 46%|████▌     | 23/50 [12:14<14:24, 32.02s/it]"
     ]
    },
    {
     "name": "stdout",
     "output_type": "stream",
     "text": [
      "[24,  2000] loss: 1.005\n",
      "[24,  4000] loss: 1.026\n",
      "[24,  6000] loss: 1.024\n",
      "[24,  8000] loss: 1.027\n",
      "[24, 10000] loss: 1.022\n",
      "[24, 12000] loss: 1.026\n"
     ]
    },
    {
     "name": "stderr",
     "output_type": "stream",
     "text": [
      " 48%|████▊     | 24/50 [12:46<13:50, 31.95s/it]"
     ]
    },
    {
     "name": "stdout",
     "output_type": "stream",
     "text": [
      "[25,  2000] loss: 1.004\n",
      "[25,  4000] loss: 0.995\n",
      "[25,  6000] loss: 1.008\n",
      "[25,  8000] loss: 1.026\n",
      "[25, 10000] loss: 1.005\n",
      "[25, 12000] loss: 1.019\n"
     ]
    },
    {
     "name": "stderr",
     "output_type": "stream",
     "text": [
      " 50%|█████     | 25/50 [13:18<13:18, 31.95s/it]"
     ]
    },
    {
     "name": "stdout",
     "output_type": "stream",
     "text": [
      "[26,  2000] loss: 0.987\n",
      "[26,  4000] loss: 0.995\n",
      "[26,  6000] loss: 0.995\n",
      "[26,  8000] loss: 1.014\n",
      "[26, 10000] loss: 1.015\n",
      "[26, 12000] loss: 0.988\n"
     ]
    },
    {
     "name": "stderr",
     "output_type": "stream",
     "text": [
      " 52%|█████▏    | 26/50 [13:49<12:45, 31.91s/it]"
     ]
    },
    {
     "name": "stdout",
     "output_type": "stream",
     "text": [
      "[27,  2000] loss: 0.989\n",
      "[27,  4000] loss: 0.995\n",
      "[27,  6000] loss: 0.973\n",
      "[27,  8000] loss: 0.998\n",
      "[27, 10000] loss: 0.996\n",
      "[27, 12000] loss: 0.987\n"
     ]
    },
    {
     "name": "stderr",
     "output_type": "stream",
     "text": [
      " 54%|█████▍    | 27/50 [14:21<12:13, 31.90s/it]"
     ]
    },
    {
     "name": "stdout",
     "output_type": "stream",
     "text": [
      "[28,  2000] loss: 0.985\n",
      "[28,  4000] loss: 0.968\n",
      "[28,  6000] loss: 0.969\n",
      "[28,  8000] loss: 0.989\n",
      "[28, 10000] loss: 0.989\n",
      "[28, 12000] loss: 0.974\n"
     ]
    },
    {
     "name": "stderr",
     "output_type": "stream",
     "text": [
      " 56%|█████▌    | 28/50 [14:53<11:41, 31.88s/it]"
     ]
    },
    {
     "name": "stdout",
     "output_type": "stream",
     "text": [
      "[29,  2000] loss: 0.954\n",
      "[29,  4000] loss: 0.967\n",
      "[29,  6000] loss: 0.965\n",
      "[29,  8000] loss: 0.973\n",
      "[29, 10000] loss: 0.979\n",
      "[29, 12000] loss: 0.971\n"
     ]
    },
    {
     "name": "stderr",
     "output_type": "stream",
     "text": [
      " 58%|█████▊    | 29/50 [15:25<11:09, 31.86s/it]"
     ]
    },
    {
     "name": "stdout",
     "output_type": "stream",
     "text": [
      "[30,  2000] loss: 0.966\n",
      "[30,  4000] loss: 0.964\n",
      "[30,  6000] loss: 0.968\n",
      "[30,  8000] loss: 0.951\n",
      "[30, 10000] loss: 0.948\n",
      "[30, 12000] loss: 0.963\n"
     ]
    },
    {
     "name": "stderr",
     "output_type": "stream",
     "text": [
      " 60%|██████    | 30/50 [15:59<10:47, 32.38s/it]"
     ]
    },
    {
     "name": "stdout",
     "output_type": "stream",
     "text": [
      "[31,  2000] loss: 0.930\n",
      "[31,  4000] loss: 0.938\n",
      "[31,  6000] loss: 0.953\n",
      "[31,  8000] loss: 0.973\n",
      "[31, 10000] loss: 0.949\n",
      "[31, 12000] loss: 0.968\n"
     ]
    },
    {
     "name": "stderr",
     "output_type": "stream",
     "text": [
      " 62%|██████▏   | 31/50 [16:31<10:16, 32.45s/it]"
     ]
    },
    {
     "name": "stdout",
     "output_type": "stream",
     "text": [
      "[32,  2000] loss: 0.932\n",
      "[32,  4000] loss: 0.933\n",
      "[32,  6000] loss: 0.929\n",
      "[32,  8000] loss: 0.934\n",
      "[32, 10000] loss: 0.956\n",
      "[32, 12000] loss: 0.970\n"
     ]
    },
    {
     "name": "stderr",
     "output_type": "stream",
     "text": [
      " 64%|██████▍   | 32/50 [17:03<09:42, 32.39s/it]"
     ]
    },
    {
     "name": "stdout",
     "output_type": "stream",
     "text": [
      "[33,  2000] loss: 0.944\n",
      "[33,  4000] loss: 0.937\n",
      "[33,  6000] loss: 0.924\n",
      "[33,  8000] loss: 0.939\n",
      "[33, 10000] loss: 0.934\n",
      "[33, 12000] loss: 0.927\n"
     ]
    },
    {
     "name": "stderr",
     "output_type": "stream",
     "text": [
      " 66%|██████▌   | 33/50 [17:36<09:11, 32.44s/it]"
     ]
    },
    {
     "name": "stdout",
     "output_type": "stream",
     "text": [
      "[34,  2000] loss: 0.937\n",
      "[34,  4000] loss: 0.915\n",
      "[34,  6000] loss: 0.924\n",
      "[34,  8000] loss: 0.941\n",
      "[34, 10000] loss: 0.925\n",
      "[34, 12000] loss: 0.926\n"
     ]
    },
    {
     "name": "stderr",
     "output_type": "stream",
     "text": [
      " 68%|██████▊   | 34/50 [18:08<08:38, 32.39s/it]"
     ]
    },
    {
     "name": "stdout",
     "output_type": "stream",
     "text": [
      "[35,  2000] loss: 0.915\n",
      "[35,  4000] loss: 0.923\n",
      "[35,  6000] loss: 0.904\n",
      "[35,  8000] loss: 0.930\n",
      "[35, 10000] loss: 0.925\n",
      "[35, 12000] loss: 0.922\n"
     ]
    },
    {
     "name": "stderr",
     "output_type": "stream",
     "text": [
      " 70%|███████   | 35/50 [18:41<08:06, 32.41s/it]"
     ]
    },
    {
     "name": "stdout",
     "output_type": "stream",
     "text": [
      "[36,  2000] loss: 0.888\n",
      "[36,  4000] loss: 0.904\n",
      "[36,  6000] loss: 0.927\n",
      "[36,  8000] loss: 0.927\n",
      "[36, 10000] loss: 0.905\n",
      "[36, 12000] loss: 0.915\n"
     ]
    },
    {
     "name": "stderr",
     "output_type": "stream",
     "text": [
      " 72%|███████▏  | 36/50 [19:13<07:33, 32.37s/it]"
     ]
    },
    {
     "name": "stdout",
     "output_type": "stream",
     "text": [
      "[37,  2000] loss: 0.909\n",
      "[37,  4000] loss: 0.899\n",
      "[37,  6000] loss: 0.894\n",
      "[37,  8000] loss: 0.906\n",
      "[37, 10000] loss: 0.902\n",
      "[37, 12000] loss: 0.910\n"
     ]
    },
    {
     "name": "stderr",
     "output_type": "stream",
     "text": [
      " 74%|███████▍  | 37/50 [19:46<07:01, 32.46s/it]"
     ]
    },
    {
     "name": "stdout",
     "output_type": "stream",
     "text": [
      "[38,  2000] loss: 0.900\n",
      "[38,  4000] loss: 0.886\n",
      "[38,  6000] loss: 0.909\n",
      "[38,  8000] loss: 0.886\n",
      "[38, 10000] loss: 0.903\n",
      "[38, 12000] loss: 0.891\n"
     ]
    },
    {
     "name": "stderr",
     "output_type": "stream",
     "text": [
      " 76%|███████▌  | 38/50 [20:18<06:30, 32.56s/it]"
     ]
    },
    {
     "name": "stdout",
     "output_type": "stream",
     "text": [
      "[39,  2000] loss: 0.880\n",
      "[39,  4000] loss: 0.881\n",
      "[39,  6000] loss: 0.891\n",
      "[39,  8000] loss: 0.903\n",
      "[39, 10000] loss: 0.896\n",
      "[39, 12000] loss: 0.884\n"
     ]
    },
    {
     "name": "stderr",
     "output_type": "stream",
     "text": [
      " 78%|███████▊  | 39/50 [20:51<05:59, 32.72s/it]"
     ]
    },
    {
     "name": "stdout",
     "output_type": "stream",
     "text": [
      "[40,  2000] loss: 0.893\n"
     ]
    }
   ],
   "source": [
    "for epoch in tqdm(range(50)):  # loop over the dataset multiple times\n",
    "\n",
    "    running_loss = 0.0\n",
    "    for i, data in enumerate(trainloader, 0):\n",
    "        # get the inputs; data is a list of [inputs, labels]\n",
    "        inputs, labels = data\n",
    "        inputs = torch.tensor(inputs.to(device))\n",
    "        labels = torch.tensor(labels.to(device))\n",
    "        # zero the parameter gradients\n",
    "        optimizer.zero_grad()\n",
    "\n",
    "        # forward + backward + optimize\n",
    "        outputs = net(inputs)\n",
    "        loss = criterion(outputs, labels)\n",
    "        loss.backward()\n",
    "        optimizer.step()\n",
    "\n",
    "        # print statistics\n",
    "        running_loss += loss.item()\n",
    "        if i % 2000 == 1999:    # print every 2000 mini-batches\n",
    "            print(f'[{epoch + 1}, {i + 1:5d}] loss: {running_loss / 2000:.3f}')\n",
    "            running_loss = 0.0\n",
    "\n",
    "print('Finished Training')"
   ]
  },
  {
   "cell_type": "code",
   "execution_count": 92,
   "metadata": {},
   "outputs": [],
   "source": [
    "PATH = './cifar_net_10_719_epoch.pth'\n",
    "torch.save(net.state_dict(), PATH)"
   ]
  },
  {
   "cell_type": "code",
   "execution_count": 93,
   "metadata": {},
   "outputs": [
    {
     "data": {
      "image/png": "[encoded data removed]",
      "text/plain": [
       "<Figure size 640x480 with 1 Axes>"
      ]
     },
     "metadata": {},
     "output_type": "display_data"
    },
    {
     "name": "stdout",
     "output_type": "stream",
     "text": [
      "GroundTruth:  cat   ship  ship  plane\n"
     ]
    }
   ],
   "source": [
    "dataiter = iter(testloader)\n",
    "images, labels = next(dataiter)\n",
    "\n",
    "# print images\n",
    "imshow(torchvision.utils.make_grid(images))\n",
    "print('GroundTruth: ', ' '.join(f'{classes[labels[j]]:5s}' for j in range(4)))"
   ]
  },
  {
   "cell_type": "code",
   "execution_count": 94,
   "metadata": {},
   "outputs": [
    {
     "data": {
      "text/plain": [
       "<All keys matched successfully>"
      ]
     },
     "execution_count": 94,
     "metadata": {},
     "output_type": "execute_result"
    }
   ],
   "source": [
    "net = Net()\n",
    "net.load_state_dict(torch.load(PATH))"
   ]
  },
  {
   "cell_type": "code",
   "execution_count": 95,
   "metadata": {},
   "outputs": [
    {
     "name": "stdout",
     "output_type": "stream",
     "text": [
      "Predicted:  cat   ship  ship  plane\n"
     ]
    }
   ],
   "source": [
    "outputs = net(images)\n",
    "_, predicted = torch.max(outputs, 1)\n",
    "\n",
    "print('Predicted: ', ' '.join(f'{classes[predicted[j]]:5s}'\n",
    "                              for j in range(4)))"
   ]
  },
  {
   "cell_type": "code",
   "execution_count": 96,
   "metadata": {},
   "outputs": [
    {
     "name": "stdout",
     "output_type": "stream",
     "text": [
      "Accuracy of the network on the 10000 test images: 67 %\n"
     ]
    }
   ],
   "source": [
    "correct = 0\n",
    "total = 0\n",
    "# since we're not training, we don't need to calculate the gradients for our outputs\n",
    "with torch.no_grad():\n",
    "    for data in testloader:\n",
    "        images, labels = data\n",
    "        # calculate outputs by running images through the network\n",
    "        outputs = net(images)\n",
    "        # the class with the highest energy is what we choose as prediction\n",
    "        _, predicted = torch.max(outputs.data, 1)\n",
    "        total += labels.size(0)\n",
    "        correct += (predicted == labels).sum().item()\n",
    "\n",
    "print(f'Accuracy of the network on the 10000 test images: {100 * correct // total} %')"
   ]
  },
  {
   "cell_type": "code",
   "execution_count": 22,
   "metadata": {},
   "outputs": [
    {
     "name": "stdout",
     "output_type": "stream",
     "text": [
      "Accuracy for class: plane is 64.6 %\n",
      "Accuracy for class: car   is 82.9 %\n",
      "Accuracy for class: bird  is 55.9 %\n",
      "Accuracy for class: cat   is 42.8 %\n",
      "Accuracy for class: deer  is 50.5 %\n",
      "Accuracy for class: dog   is 51.0 %\n",
      "Accuracy for class: frog  is 74.9 %\n",
      "Accuracy for class: horse is 66.1 %\n",
      "Accuracy for class: ship  is 71.7 %\n",
      "Accuracy for class: truck is 70.1 %\n"
     ]
    }
   ],
   "source": [
    "# prepare to count predictions for each class\n",
    "correct_pred = {classname: 0 for classname in classes}\n",
    "total_pred = {classname: 0 for classname in classes}\n",
    "\n",
    "# again no gradients needed\n",
    "with torch.no_grad():\n",
    "    for data in testloader:\n",
    "        images, labels = data\n",
    "        outputs = net(images)\n",
    "        _, predictions = torch.max(outputs, 1)\n",
    "        # collect the correct predictions for each class\n",
    "        for label, prediction in zip(labels, predictions):\n",
    "            if label == prediction:\n",
    "                correct_pred[classes[label]] += 1\n",
    "            total_pred[classes[label]] += 1\n",
    "\n",
    "\n",
    "# print accuracy for each class\n",
    "for classname, correct_count in correct_pred.items():\n",
    "    accuracy = 100 * float(correct_count) / total_pred[classname]\n",
    "    print(f'Accuracy for class: {classname:5s} is {accuracy:.1f} %')"
   ]
  },
  {
   "cell_type": "code",
   "execution_count": null,
   "metadata": {},
   "outputs": [],
   "source": [
    "device = torch.device('cuda:0' if torch.cuda.is_available() else 'cpu')\n",
    "\n",
    "# Assuming that we are on a CUDA machine, this should print a CUDA device:\n",
    "\n",
    "print(device)"
   ]
  },
  {
   "cell_type": "code",
   "execution_count": null,
   "metadata": {},
   "outputs": [],
   "source": [
    "net.to(device)\n",
    "inputs, labels = data[0].to(device), data[1].to(device)"
   ]
  }
 ],
 "metadata": {
  "kernelspec": {
   "display_name": "Python 3.10.6 64-bit",
   "language": "python",
   "name": "python3"
  },
  "language_info": {
   "codemirror_mode": {
    "name": "ipython",
    "version": 3
   },
   "file_extension": ".py",
   "mimetype": "text/x-python",
   "name": "python",
   "nbconvert_exporter": "python",
   "pygments_lexer": "ipython3",
   "version": "3.10.6"
  },
  "orig_nbformat": 4,
  "vscode": {
   "interpreter": {
    "hash": "369f2c481f4da34e4445cda3fffd2e751bd1c4d706f27375911949ba6bb62e1c"
   }
  }
 },
 "nbformat": 4,
 "nbformat_minor": 2
}
